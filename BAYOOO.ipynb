{
 "cells": [
  {
   "cell_type": "code",
   "execution_count": 66,
   "id": "58f5dcae",
   "metadata": {},
   "outputs": [
    {
     "name": "stdout",
     "output_type": "stream",
     "text": [
      "X= [-10.          -9.7979798   -9.5959596   -9.39393939  -9.19191919\n",
      "  -8.98989899  -8.78787879  -8.58585859  -8.38383838  -8.18181818\n",
      "  -7.97979798  -7.77777778  -7.57575758  -7.37373737  -7.17171717\n",
      "  -6.96969697  -6.76767677  -6.56565657  -6.36363636  -6.16161616\n",
      "  -5.95959596  -5.75757576  -5.55555556  -5.35353535  -5.15151515\n",
      "  -4.94949495  -4.74747475  -4.54545455  -4.34343434  -4.14141414\n",
      "  -3.93939394  -3.73737374  -3.53535354  -3.33333333  -3.13131313\n",
      "  -2.92929293  -2.72727273  -2.52525253  -2.32323232  -2.12121212\n",
      "  -1.91919192  -1.71717172  -1.51515152  -1.31313131  -1.11111111\n",
      "  -0.90909091  -0.70707071  -0.50505051  -0.3030303   -0.1010101\n",
      "   0.1010101    0.3030303    0.50505051   0.70707071   0.90909091\n",
      "   1.11111111   1.31313131   1.51515152   1.71717172   1.91919192\n",
      "   2.12121212   2.32323232   2.52525253   2.72727273   2.92929293\n",
      "   3.13131313   3.33333333   3.53535354   3.73737374   3.93939394\n",
      "   4.14141414   4.34343434   4.54545455   4.74747475   4.94949495\n",
      "   5.15151515   5.35353535   5.55555556   5.75757576   5.95959596\n",
      "   6.16161616   6.36363636   6.56565657   6.76767677   6.96969697\n",
      "   7.17171717   7.37373737   7.57575758   7.77777778   7.97979798\n",
      "   8.18181818   8.38383838   8.58585859   8.78787879   8.98989899\n",
      "   9.19191919   9.39393939   9.5959596    9.7979798   10.        ]\n",
      "y= [ 0.54402111  0.36459873  0.17034683 -0.03083368 -0.23076008 -0.42130064\n",
      " -0.59470541 -0.74392141 -0.86287948 -0.94674118 -0.99209556 -0.99709789\n",
      " -0.96154471 -0.8868821  -0.77614685 -0.63384295 -0.46575841 -0.27872982\n",
      " -0.0803643   0.12126992  0.31797166  0.50174037  0.66510151  0.80141062\n",
      "  0.90512352  0.97202182  0.99938456  0.98609877  0.93270486  0.84137452\n",
      "  0.7158225   0.56115544  0.38366419  0.19056796 -0.01027934 -0.21070855\n",
      " -0.40256749 -0.57805259 -0.73002623 -0.85230712 -0.93992165 -0.98930624\n",
      " -0.99845223 -0.96698762 -0.8961922  -0.78894546 -0.64960951 -0.48385164\n",
      " -0.2984138  -0.10083842  0.10083842  0.2984138   0.48385164  0.64960951\n",
      "  0.78894546  0.8961922   0.96698762  0.99845223  0.98930624  0.93992165\n",
      "  0.85230712  0.73002623  0.57805259  0.40256749  0.21070855  0.01027934\n",
      " -0.19056796 -0.38366419 -0.56115544 -0.7158225  -0.84137452 -0.93270486\n",
      " -0.98609877 -0.99938456 -0.97202182 -0.90512352 -0.80141062 -0.66510151\n",
      " -0.50174037 -0.31797166 -0.12126992  0.0803643   0.27872982  0.46575841\n",
      "  0.63384295  0.77614685  0.8868821   0.96154471  0.99709789  0.99209556\n",
      "  0.94674118  0.86287948  0.74392141  0.59470541  0.42130064  0.23076008\n",
      "  0.03083368 -0.17034683 -0.36459873 -0.54402111]\n"
     ]
    },
    {
     "data": {
      "text/plain": [
       "<matplotlib.legend.Legend at 0x1c2c2942190>"
      ]
     },
     "execution_count": 66,
     "metadata": {},
     "output_type": "execute_result"
    },
    {
     "data": {
      "image/png": "[encoded data removed]",
      "text/plain": [
       "<Figure size 432x288 with 1 Axes>"
      ]
     },
     "metadata": {
      "needs_background": "light"
     },
     "output_type": "display_data"
    }
   ],
   "source": [
    "import matplotlib.pyplot as plt\n",
    "import numpy as np\n",
    "X=np.linspace(-10, 10, 100)\n",
    "y=np.sin(X)\n",
    "print (\"X= {}\".format(X))\n",
    "print (\"y= {}\".format(y))\n",
    "plt.plot(X,y,label=\"X vs z\")\n",
    "plt.xlabel(\"X\")\n",
    "plt.ylabel(\"y vs z\")\n",
    "plt.legend()"
   ]
  },
  {
   "cell_type": "code",
   "execution_count": 30,
   "id": "245c1fc5",
   "metadata": {},
   "outputs": [
    {
     "name": "stdout",
     "output_type": "stream",
     "text": [
      "X = [1 2 3 4 5]\n"
     ]
    }
   ],
   "source": [
    "import numpy as np\n",
    "\n",
    "# Create an array\n",
    "X = np.array([1, 2, 3, 4, 5])\n",
    "\n",
    "# Print the array\n",
    "print(\"X = {}\".format(X))\n"
   ]
  },
  {
   "cell_type": "code",
   "execution_count": 19,
   "id": "d670b98d",
   "metadata": {},
   "outputs": [
    {
     "name": "stdout",
     "output_type": "stream",
     "text": [
      "CSR Matrix:\n",
      "  (0, 0)\t1\n",
      "  (0, 2)\t2\n",
      "  (1, 1)\t3\n",
      "  (2, 0)\t4\n",
      "  (2, 2)\t5\n"
     ]
    }
   ],
   "source": [
    "import numpy as np\n",
    "from scipy.sparse import csr_matrix\n",
    "# Create a dense matrix\n",
    "dense_matrix = np.array([[1, 0, 2], [0, 3, 0], [4, 0, 5]])\n",
    "# Convert the dense matrix to a sparse CSR matrix\n",
    "sparse_matrix = csr_matrix(dense_matrix)\n",
    "# Print the CSR matrix\n",
    "print(\"CSR Matrix:\\n{}\".format(sparse_matrix))\n"
   ]
  },
  {
   "cell_type": "code",
   "execution_count": 11,
   "id": "c7612d5b",
   "metadata": {},
   "outputs": [
    {
     "data": {
      "text/plain": [
       "array([[1., 0., 0., 0., 0.],\n",
       "       [0., 1., 0., 0., 0.],\n",
       "       [0., 0., 1., 0., 0.],\n",
       "       [0., 0., 0., 1., 0.],\n",
       "       [0., 0., 0., 0., 1.]])"
      ]
     },
     "execution_count": 11,
     "metadata": {},
     "output_type": "execute_result"
    }
   ],
   "source": [
    "from scipy import sparse \n",
    "import numpy as np\n",
    "x=np.eye(5)\n",
    "x"
   ]
  },
  {
   "cell_type": "code",
   "execution_count": 23,
   "id": "45c126e2",
   "metadata": {},
   "outputs": [
    {
     "name": "stdout",
     "output_type": "stream",
     "text": [
      "CSR Matrix:\n",
      "  (0, 0)\t1.0\n",
      "  (1, 1)\t1.0\n",
      "  (2, 2)\t1.0\n",
      "  (3, 3)\t1.0\n",
      "  (4, 4)\t1.0\n"
     ]
    }
   ],
   "source": [
    "sparse_matrix=sparse.csr_matrix(x)\n",
    "print (\"CSR Matrix:\\n{}\". format(sparse_matrix))"
   ]
  },
  {
   "cell_type": "code",
   "execution_count": 43,
   "id": "438de575",
   "metadata": {},
   "outputs": [
    {
     "name": "stdout",
     "output_type": "stream",
     "text": [
      "X = [1 2 3 4 5]\n"
     ]
    }
   ],
   "source": [
    "#Create an array\n",
    "X = np.array([1, 2, 3, 4, 5])\n",
    "# Print the array\n",
    "print(\"X = {}\" .format(X))\n"
   ]
  },
  {
   "cell_type": "code",
   "execution_count": 81,
   "id": "3a0a6eff",
   "metadata": {},
   "outputs": [
    {
     "name": "stdout",
     "output_type": "stream",
     "text": [
      "The gradient (slope) is: [0.39618269]\n",
      "The y-intercept is: 0.032241940117533535\n"
     ]
    }
   ],
   "source": [
    "import mglearn\n",
    "import matplotlib.pyplot as plt\n",
    "\n",
    "X, y= mglearn.datasets.make_wave()\n",
    "\n",
    "from sklearn.linear_model import LinearRegression\n",
    "from sklearn.model_selection import train_test_split\n",
    "\n",
    "X_train, X_test, y_train, y_test=train_test_split(X, y, random_state=0)\n",
    "#make the model\n",
    "lr=LinearRegression()\n",
    "lr.fit(X_train, y_train)\n",
    "\n",
    "print(\"The gradient (slope) is: {}\".format(lr.coef_))\n",
    "print(\"The y-intercept is: {}\".format(lr.intercept_))"
   ]
  },
  {
   "cell_type": "code",
   "execution_count": 79,
   "id": "882ef8a8",
   "metadata": {},
   "outputs": [
    {
     "name": "stdout",
     "output_type": "stream",
     "text": [
      "The gradient (slope) is: [0.39618269]\n",
      "The y-intercept is: 0.032241940117533535\n"
     ]
    }
   ],
   "source": [
    "import mglearn\n",
    "import sklearn.model_selection\n",
    "from sklearn.linear_model import LinearRegression\n",
    "\n",
    "X, y = mglearn.datasets.make_wave()\n",
    "\n",
    "X_train, X_test, y_train, y_test = sklearn.model_selection.train_test_split(X, y, random_state=0)\n",
    "\n",
    "# Create the model\n",
    "lr = LinearRegression()\n",
    "lr.fit(X_train, y_train)\n",
    "\n",
    "print(\"The gradient (slope) is: {}\".format(lr.coef_))\n",
    "print(\"The y-intercept is: {}\".format(lr.intercept_))\n"
   ]
  },
  {
   "cell_type": "code",
   "execution_count": 83,
   "id": "f4dc717c",
   "metadata": {},
   "outputs": [],
   "source": [
    "import pandas as pd"
   ]
  },
  {
   "cell_type": "code",
   "execution_count": 104,
   "id": "9edb5aa1",
   "metadata": {},
   "outputs": [
    {
     "data": {
      "text/plain": [
       "(150, 6)"
      ]
     },
     "execution_count": 104,
     "metadata": {},
     "output_type": "execute_result"
    }
   ],
   "source": [
    "df=pd.read_csv('C:/users/labz/desktop/iris.csv')\n",
    "df.shape"
   ]
  },
  {
   "cell_type": "code",
   "execution_count": 105,
   "id": "c13a341a",
   "metadata": {},
   "outputs": [
    {
     "data": {
      "text/html": [
       "<div>\n",
       "<style scoped>\n",
       "    .dataframe tbody tr th:only-of-type {\n",
       "        vertical-align: middle;\n",
       "    }\n",
       "\n",
       "    .dataframe tbody tr th {\n",
       "        vertical-align: top;\n",
       "    }\n",
       "\n",
       "    .dataframe thead th {\n",
       "        text-align: right;\n",
       "    }\n",
       "</style>\n",
       "<table border=\"1\" class=\"dataframe\">\n",
       "  <thead>\n",
       "    <tr style=\"text-align: right;\">\n",
       "      <th></th>\n",
       "      <th>Id</th>\n",
       "      <th>SepalLengthCm</th>\n",
       "      <th>SepalWidthCm</th>\n",
       "      <th>PetalLengthCm</th>\n",
       "      <th>PetalWidthCm</th>\n",
       "      <th>Species</th>\n",
       "    </tr>\n",
       "  </thead>\n",
       "  <tbody>\n",
       "    <tr>\n",
       "      <th>0</th>\n",
       "      <td>1</td>\n",
       "      <td>5.1</td>\n",
       "      <td>3.5</td>\n",
       "      <td>1.4</td>\n",
       "      <td>0.2</td>\n",
       "      <td>Iris-setosa</td>\n",
       "    </tr>\n",
       "    <tr>\n",
       "      <th>1</th>\n",
       "      <td>2</td>\n",
       "      <td>4.9</td>\n",
       "      <td>3.0</td>\n",
       "      <td>1.4</td>\n",
       "      <td>0.2</td>\n",
       "      <td>Iris-setosa</td>\n",
       "    </tr>\n",
       "    <tr>\n",
       "      <th>2</th>\n",
       "      <td>3</td>\n",
       "      <td>4.7</td>\n",
       "      <td>3.2</td>\n",
       "      <td>1.3</td>\n",
       "      <td>0.2</td>\n",
       "      <td>Iris-setosa</td>\n",
       "    </tr>\n",
       "    <tr>\n",
       "      <th>3</th>\n",
       "      <td>4</td>\n",
       "      <td>4.6</td>\n",
       "      <td>3.1</td>\n",
       "      <td>1.5</td>\n",
       "      <td>0.2</td>\n",
       "      <td>Iris-setosa</td>\n",
       "    </tr>\n",
       "    <tr>\n",
       "      <th>4</th>\n",
       "      <td>5</td>\n",
       "      <td>5.0</td>\n",
       "      <td>3.6</td>\n",
       "      <td>1.4</td>\n",
       "      <td>0.2</td>\n",
       "      <td>Iris-setosa</td>\n",
       "    </tr>\n",
       "    <tr>\n",
       "      <th>5</th>\n",
       "      <td>6</td>\n",
       "      <td>5.4</td>\n",
       "      <td>3.9</td>\n",
       "      <td>1.7</td>\n",
       "      <td>0.4</td>\n",
       "      <td>Iris-setosa</td>\n",
       "    </tr>\n",
       "    <tr>\n",
       "      <th>6</th>\n",
       "      <td>7</td>\n",
       "      <td>4.6</td>\n",
       "      <td>3.4</td>\n",
       "      <td>1.4</td>\n",
       "      <td>0.3</td>\n",
       "      <td>Iris-setosa</td>\n",
       "    </tr>\n",
       "  </tbody>\n",
       "</table>\n",
       "</div>"
      ],
      "text/plain": [
       "   Id  SepalLengthCm  SepalWidthCm  PetalLengthCm  PetalWidthCm      Species\n",
       "0   1            5.1           3.5            1.4           0.2  Iris-setosa\n",
       "1   2            4.9           3.0            1.4           0.2  Iris-setosa\n",
       "2   3            4.7           3.2            1.3           0.2  Iris-setosa\n",
       "3   4            4.6           3.1            1.5           0.2  Iris-setosa\n",
       "4   5            5.0           3.6            1.4           0.2  Iris-setosa\n",
       "5   6            5.4           3.9            1.7           0.4  Iris-setosa\n",
       "6   7            4.6           3.4            1.4           0.3  Iris-setosa"
      ]
     },
     "execution_count": 105,
     "metadata": {},
     "output_type": "execute_result"
    }
   ],
   "source": [
    "df.head(7)"
   ]
  },
  {
   "cell_type": "code",
   "execution_count": 106,
   "id": "d3ef0a96",
   "metadata": {},
   "outputs": [
    {
     "name": "stdout",
     "output_type": "stream",
     "text": [
      "<class 'pandas.core.frame.DataFrame'>\n",
      "RangeIndex: 150 entries, 0 to 149\n",
      "Data columns (total 6 columns):\n",
      " #   Column         Non-Null Count  Dtype  \n",
      "---  ------         --------------  -----  \n",
      " 0   Id             150 non-null    int64  \n",
      " 1   SepalLengthCm  150 non-null    float64\n",
      " 2   SepalWidthCm   150 non-null    float64\n",
      " 3   PetalLengthCm  150 non-null    float64\n",
      " 4   PetalWidthCm   150 non-null    float64\n",
      " 5   Species        150 non-null    object \n",
      "dtypes: float64(4), int64(1), object(1)\n",
      "memory usage: 7.2+ KB\n"
     ]
    }
   ],
   "source": [
    "df.info()"
   ]
  },
  {
   "cell_type": "code",
   "execution_count": 87,
   "id": "c7b05700",
   "metadata": {},
   "outputs": [
    {
     "data": {
      "text/html": [
       "<div>\n",
       "<style scoped>\n",
       "    .dataframe tbody tr th:only-of-type {\n",
       "        vertical-align: middle;\n",
       "    }\n",
       "\n",
       "    .dataframe tbody tr th {\n",
       "        vertical-align: top;\n",
       "    }\n",
       "\n",
       "    .dataframe thead th {\n",
       "        text-align: right;\n",
       "    }\n",
       "</style>\n",
       "<table border=\"1\" class=\"dataframe\">\n",
       "  <thead>\n",
       "    <tr style=\"text-align: right;\">\n",
       "      <th></th>\n",
       "      <th>Id</th>\n",
       "      <th>SepalLengthCm</th>\n",
       "      <th>SepalWidthCm</th>\n",
       "      <th>PetalLengthCm</th>\n",
       "      <th>PetalWidthCm</th>\n",
       "      <th>Species</th>\n",
       "    </tr>\n",
       "  </thead>\n",
       "  <tbody>\n",
       "    <tr>\n",
       "      <th>140</th>\n",
       "      <td>141</td>\n",
       "      <td>6.7</td>\n",
       "      <td>3.1</td>\n",
       "      <td>5.6</td>\n",
       "      <td>2.4</td>\n",
       "      <td>Iris-virginica</td>\n",
       "    </tr>\n",
       "    <tr>\n",
       "      <th>141</th>\n",
       "      <td>142</td>\n",
       "      <td>6.9</td>\n",
       "      <td>3.1</td>\n",
       "      <td>5.1</td>\n",
       "      <td>2.3</td>\n",
       "      <td>Iris-virginica</td>\n",
       "    </tr>\n",
       "    <tr>\n",
       "      <th>142</th>\n",
       "      <td>143</td>\n",
       "      <td>5.8</td>\n",
       "      <td>2.7</td>\n",
       "      <td>5.1</td>\n",
       "      <td>1.9</td>\n",
       "      <td>Iris-virginica</td>\n",
       "    </tr>\n",
       "    <tr>\n",
       "      <th>143</th>\n",
       "      <td>144</td>\n",
       "      <td>6.8</td>\n",
       "      <td>3.2</td>\n",
       "      <td>5.9</td>\n",
       "      <td>2.3</td>\n",
       "      <td>Iris-virginica</td>\n",
       "    </tr>\n",
       "    <tr>\n",
       "      <th>144</th>\n",
       "      <td>145</td>\n",
       "      <td>6.7</td>\n",
       "      <td>3.3</td>\n",
       "      <td>5.7</td>\n",
       "      <td>2.5</td>\n",
       "      <td>Iris-virginica</td>\n",
       "    </tr>\n",
       "    <tr>\n",
       "      <th>145</th>\n",
       "      <td>146</td>\n",
       "      <td>6.7</td>\n",
       "      <td>3.0</td>\n",
       "      <td>5.2</td>\n",
       "      <td>2.3</td>\n",
       "      <td>Iris-virginica</td>\n",
       "    </tr>\n",
       "    <tr>\n",
       "      <th>146</th>\n",
       "      <td>147</td>\n",
       "      <td>6.3</td>\n",
       "      <td>2.5</td>\n",
       "      <td>5.0</td>\n",
       "      <td>1.9</td>\n",
       "      <td>Iris-virginica</td>\n",
       "    </tr>\n",
       "    <tr>\n",
       "      <th>147</th>\n",
       "      <td>148</td>\n",
       "      <td>6.5</td>\n",
       "      <td>3.0</td>\n",
       "      <td>5.2</td>\n",
       "      <td>2.0</td>\n",
       "      <td>Iris-virginica</td>\n",
       "    </tr>\n",
       "    <tr>\n",
       "      <th>148</th>\n",
       "      <td>149</td>\n",
       "      <td>6.2</td>\n",
       "      <td>3.4</td>\n",
       "      <td>5.4</td>\n",
       "      <td>2.3</td>\n",
       "      <td>Iris-virginica</td>\n",
       "    </tr>\n",
       "    <tr>\n",
       "      <th>149</th>\n",
       "      <td>150</td>\n",
       "      <td>5.9</td>\n",
       "      <td>3.0</td>\n",
       "      <td>5.1</td>\n",
       "      <td>1.8</td>\n",
       "      <td>Iris-virginica</td>\n",
       "    </tr>\n",
       "  </tbody>\n",
       "</table>\n",
       "</div>"
      ],
      "text/plain": [
       "      Id  SepalLengthCm  SepalWidthCm  PetalLengthCm  PetalWidthCm  \\\n",
       "140  141            6.7           3.1            5.6           2.4   \n",
       "141  142            6.9           3.1            5.1           2.3   \n",
       "142  143            5.8           2.7            5.1           1.9   \n",
       "143  144            6.8           3.2            5.9           2.3   \n",
       "144  145            6.7           3.3            5.7           2.5   \n",
       "145  146            6.7           3.0            5.2           2.3   \n",
       "146  147            6.3           2.5            5.0           1.9   \n",
       "147  148            6.5           3.0            5.2           2.0   \n",
       "148  149            6.2           3.4            5.4           2.3   \n",
       "149  150            5.9           3.0            5.1           1.8   \n",
       "\n",
       "            Species  \n",
       "140  Iris-virginica  \n",
       "141  Iris-virginica  \n",
       "142  Iris-virginica  \n",
       "143  Iris-virginica  \n",
       "144  Iris-virginica  \n",
       "145  Iris-virginica  \n",
       "146  Iris-virginica  \n",
       "147  Iris-virginica  \n",
       "148  Iris-virginica  \n",
       "149  Iris-virginica  "
      ]
     },
     "execution_count": 87,
     "metadata": {},
     "output_type": "execute_result"
    }
   ],
   "source": [
    "df.tail(10)\n"
   ]
  },
  {
   "cell_type": "code",
   "execution_count": 91,
   "id": "c0ed344e",
   "metadata": {},
   "outputs": [
    {
     "data": {
      "text/html": [
       "<div>\n",
       "<style scoped>\n",
       "    .dataframe tbody tr th:only-of-type {\n",
       "        vertical-align: middle;\n",
       "    }\n",
       "\n",
       "    .dataframe tbody tr th {\n",
       "        vertical-align: top;\n",
       "    }\n",
       "\n",
       "    .dataframe thead th {\n",
       "        text-align: right;\n",
       "    }\n",
       "</style>\n",
       "<table border=\"1\" class=\"dataframe\">\n",
       "  <thead>\n",
       "    <tr style=\"text-align: right;\">\n",
       "      <th></th>\n",
       "      <th>Id</th>\n",
       "      <th>SepalLengthCm</th>\n",
       "      <th>SepalWidthCm</th>\n",
       "      <th>PetalLengthCm</th>\n",
       "      <th>PetalWidthCm</th>\n",
       "    </tr>\n",
       "  </thead>\n",
       "  <tbody>\n",
       "    <tr>\n",
       "      <th>count</th>\n",
       "      <td>150.000000</td>\n",
       "      <td>150.000000</td>\n",
       "      <td>150.000000</td>\n",
       "      <td>150.000000</td>\n",
       "      <td>150.000000</td>\n",
       "    </tr>\n",
       "    <tr>\n",
       "      <th>mean</th>\n",
       "      <td>75.500000</td>\n",
       "      <td>5.843333</td>\n",
       "      <td>3.054000</td>\n",
       "      <td>3.758667</td>\n",
       "      <td>1.198667</td>\n",
       "    </tr>\n",
       "    <tr>\n",
       "      <th>std</th>\n",
       "      <td>43.445368</td>\n",
       "      <td>0.828066</td>\n",
       "      <td>0.433594</td>\n",
       "      <td>1.764420</td>\n",
       "      <td>0.763161</td>\n",
       "    </tr>\n",
       "    <tr>\n",
       "      <th>min</th>\n",
       "      <td>1.000000</td>\n",
       "      <td>4.300000</td>\n",
       "      <td>2.000000</td>\n",
       "      <td>1.000000</td>\n",
       "      <td>0.100000</td>\n",
       "    </tr>\n",
       "    <tr>\n",
       "      <th>25%</th>\n",
       "      <td>38.250000</td>\n",
       "      <td>5.100000</td>\n",
       "      <td>2.800000</td>\n",
       "      <td>1.600000</td>\n",
       "      <td>0.300000</td>\n",
       "    </tr>\n",
       "    <tr>\n",
       "      <th>50%</th>\n",
       "      <td>75.500000</td>\n",
       "      <td>5.800000</td>\n",
       "      <td>3.000000</td>\n",
       "      <td>4.350000</td>\n",
       "      <td>1.300000</td>\n",
       "    </tr>\n",
       "    <tr>\n",
       "      <th>75%</th>\n",
       "      <td>112.750000</td>\n",
       "      <td>6.400000</td>\n",
       "      <td>3.300000</td>\n",
       "      <td>5.100000</td>\n",
       "      <td>1.800000</td>\n",
       "    </tr>\n",
       "    <tr>\n",
       "      <th>max</th>\n",
       "      <td>150.000000</td>\n",
       "      <td>7.900000</td>\n",
       "      <td>4.400000</td>\n",
       "      <td>6.900000</td>\n",
       "      <td>2.500000</td>\n",
       "    </tr>\n",
       "  </tbody>\n",
       "</table>\n",
       "</div>"
      ],
      "text/plain": [
       "               Id  SepalLengthCm  SepalWidthCm  PetalLengthCm  PetalWidthCm\n",
       "count  150.000000     150.000000    150.000000     150.000000    150.000000\n",
       "mean    75.500000       5.843333      3.054000       3.758667      1.198667\n",
       "std     43.445368       0.828066      0.433594       1.764420      0.763161\n",
       "min      1.000000       4.300000      2.000000       1.000000      0.100000\n",
       "25%     38.250000       5.100000      2.800000       1.600000      0.300000\n",
       "50%     75.500000       5.800000      3.000000       4.350000      1.300000\n",
       "75%    112.750000       6.400000      3.300000       5.100000      1.800000\n",
       "max    150.000000       7.900000      4.400000       6.900000      2.500000"
      ]
     },
     "execution_count": 91,
     "metadata": {},
     "output_type": "execute_result"
    }
   ],
   "source": [
    "df.describe()"
   ]
  },
  {
   "cell_type": "code",
   "execution_count": 101,
   "id": "0a57e56f",
   "metadata": {},
   "outputs": [
    {
     "data": {
      "text/plain": [
       "',Id,SepalLengthCm,SepalWidthCm,PetalLengthCm,PetalWidthCm,Species\\r\\n0,1,5.1,3.5,1.4,0.2,Iris-setosa\\r\\n1,2,4.9,3.0,1.4,0.2,Iris-setosa\\r\\n2,3,4.7,3.2,1.3,0.2,Iris-setosa\\r\\n3,4,4.6,3.1,1.5,0.2,Iris-setosa\\r\\n4,5,5.0,3.6,1.4,0.2,Iris-setosa\\r\\n5,6,5.4,3.9,1.7,0.4,Iris-setosa\\r\\n6,7,4.6,3.4,1.4,0.3,Iris-setosa\\r\\n7,8,5.0,3.4,1.5,0.2,Iris-setosa\\r\\n8,9,4.4,2.9,1.4,0.2,Iris-setosa\\r\\n9,10,4.9,3.1,1.5,0.1,Iris-setosa\\r\\n10,11,5.4,3.7,1.5,0.2,Iris-setosa\\r\\n11,12,4.8,3.4,1.6,0.2,Iris-setosa\\r\\n12,13,4.8,3.0,1.4,0.1,Iris-setosa\\r\\n13,14,4.3,3.0,1.1,0.1,Iris-setosa\\r\\n14,15,5.8,4.0,1.2,0.2,Iris-setosa\\r\\n15,16,5.7,4.4,1.5,0.4,Iris-setosa\\r\\n16,17,5.4,3.9,1.3,0.4,Iris-setosa\\r\\n17,18,5.1,3.5,1.4,0.3,Iris-setosa\\r\\n18,19,5.7,3.8,1.7,0.3,Iris-setosa\\r\\n19,20,5.1,3.8,1.5,0.3,Iris-setosa\\r\\n20,21,5.4,3.4,1.7,0.2,Iris-setosa\\r\\n21,22,5.1,3.7,1.5,0.4,Iris-setosa\\r\\n22,23,4.6,3.6,1.0,0.2,Iris-setosa\\r\\n23,24,5.1,3.3,1.7,0.5,Iris-setosa\\r\\n24,25,4.8,3.4,1.9,0.2,Iris-setosa\\r\\n25,26,5.0,3.0,1.6,0.2,Iris-setosa\\r\\n26,27,5.0,3.4,1.6,0.4,Iris-setosa\\r\\n27,28,5.2,3.5,1.5,0.2,Iris-setosa\\r\\n28,29,5.2,3.4,1.4,0.2,Iris-setosa\\r\\n29,30,4.7,3.2,1.6,0.2,Iris-setosa\\r\\n30,31,4.8,3.1,1.6,0.2,Iris-setosa\\r\\n31,32,5.4,3.4,1.5,0.4,Iris-setosa\\r\\n32,33,5.2,4.1,1.5,0.1,Iris-setosa\\r\\n33,34,5.5,4.2,1.4,0.2,Iris-setosa\\r\\n34,35,4.9,3.1,1.5,0.1,Iris-setosa\\r\\n35,36,5.0,3.2,1.2,0.2,Iris-setosa\\r\\n36,37,5.5,3.5,1.3,0.2,Iris-setosa\\r\\n37,38,4.9,3.1,1.5,0.1,Iris-setosa\\r\\n38,39,4.4,3.0,1.3,0.2,Iris-setosa\\r\\n39,40,5.1,3.4,1.5,0.2,Iris-setosa\\r\\n40,41,5.0,3.5,1.3,0.3,Iris-setosa\\r\\n41,42,4.5,2.3,1.3,0.3,Iris-setosa\\r\\n42,43,4.4,3.2,1.3,0.2,Iris-setosa\\r\\n43,44,5.0,3.5,1.6,0.6,Iris-setosa\\r\\n44,45,5.1,3.8,1.9,0.4,Iris-setosa\\r\\n45,46,4.8,3.0,1.4,0.3,Iris-setosa\\r\\n46,47,5.1,3.8,1.6,0.2,Iris-setosa\\r\\n47,48,4.6,3.2,1.4,0.2,Iris-setosa\\r\\n48,49,5.3,3.7,1.5,0.2,Iris-setosa\\r\\n49,50,5.0,3.3,1.4,0.2,Iris-setosa\\r\\n50,51,7.0,3.2,4.7,1.4,Iris-versicolor\\r\\n51,52,6.4,3.2,4.5,1.5,Iris-versicolor\\r\\n52,53,6.9,3.1,4.9,1.5,Iris-versicolor\\r\\n53,54,5.5,2.3,4.0,1.3,Iris-versicolor\\r\\n54,55,6.5,2.8,4.6,1.5,Iris-versicolor\\r\\n55,56,5.7,2.8,4.5,1.3,Iris-versicolor\\r\\n56,57,6.3,3.3,4.7,1.6,Iris-versicolor\\r\\n57,58,4.9,2.4,3.3,1.0,Iris-versicolor\\r\\n58,59,6.6,2.9,4.6,1.3,Iris-versicolor\\r\\n59,60,5.2,2.7,3.9,1.4,Iris-versicolor\\r\\n60,61,5.0,2.0,3.5,1.0,Iris-versicolor\\r\\n61,62,5.9,3.0,4.2,1.5,Iris-versicolor\\r\\n62,63,6.0,2.2,4.0,1.0,Iris-versicolor\\r\\n63,64,6.1,2.9,4.7,1.4,Iris-versicolor\\r\\n64,65,5.6,2.9,3.6,1.3,Iris-versicolor\\r\\n65,66,6.7,3.1,4.4,1.4,Iris-versicolor\\r\\n66,67,5.6,3.0,4.5,1.5,Iris-versicolor\\r\\n67,68,5.8,2.7,4.1,1.0,Iris-versicolor\\r\\n68,69,6.2,2.2,4.5,1.5,Iris-versicolor\\r\\n69,70,5.6,2.5,3.9,1.1,Iris-versicolor\\r\\n70,71,5.9,3.2,4.8,1.8,Iris-versicolor\\r\\n71,72,6.1,2.8,4.0,1.3,Iris-versicolor\\r\\n72,73,6.3,2.5,4.9,1.5,Iris-versicolor\\r\\n73,74,6.1,2.8,4.7,1.2,Iris-versicolor\\r\\n74,75,6.4,2.9,4.3,1.3,Iris-versicolor\\r\\n75,76,6.6,3.0,4.4,1.4,Iris-versicolor\\r\\n76,77,6.8,2.8,4.8,1.4,Iris-versicolor\\r\\n77,78,6.7,3.0,5.0,1.7,Iris-versicolor\\r\\n78,79,6.0,2.9,4.5,1.5,Iris-versicolor\\r\\n79,80,5.7,2.6,3.5,1.0,Iris-versicolor\\r\\n80,81,5.5,2.4,3.8,1.1,Iris-versicolor\\r\\n81,82,5.5,2.4,3.7,1.0,Iris-versicolor\\r\\n82,83,5.8,2.7,3.9,1.2,Iris-versicolor\\r\\n83,84,6.0,2.7,5.1,1.6,Iris-versicolor\\r\\n84,85,5.4,3.0,4.5,1.5,Iris-versicolor\\r\\n85,86,6.0,3.4,4.5,1.6,Iris-versicolor\\r\\n86,87,6.7,3.1,4.7,1.5,Iris-versicolor\\r\\n87,88,6.3,2.3,4.4,1.3,Iris-versicolor\\r\\n88,89,5.6,3.0,4.1,1.3,Iris-versicolor\\r\\n89,90,5.5,2.5,4.0,1.3,Iris-versicolor\\r\\n90,91,5.5,2.6,4.4,1.2,Iris-versicolor\\r\\n91,92,6.1,3.0,4.6,1.4,Iris-versicolor\\r\\n92,93,5.8,2.6,4.0,1.2,Iris-versicolor\\r\\n93,94,5.0,2.3,3.3,1.0,Iris-versicolor\\r\\n94,95,5.6,2.7,4.2,1.3,Iris-versicolor\\r\\n95,96,5.7,3.0,4.2,1.2,Iris-versicolor\\r\\n96,97,5.7,2.9,4.2,1.3,Iris-versicolor\\r\\n97,98,6.2,2.9,4.3,1.3,Iris-versicolor\\r\\n98,99,5.1,2.5,3.0,1.1,Iris-versicolor\\r\\n99,100,5.7,2.8,4.1,1.3,Iris-versicolor\\r\\n100,101,6.3,3.3,6.0,2.5,Iris-virginica\\r\\n101,102,5.8,2.7,5.1,1.9,Iris-virginica\\r\\n102,103,7.1,3.0,5.9,2.1,Iris-virginica\\r\\n103,104,6.3,2.9,5.6,1.8,Iris-virginica\\r\\n104,105,6.5,3.0,5.8,2.2,Iris-virginica\\r\\n105,106,7.6,3.0,6.6,2.1,Iris-virginica\\r\\n106,107,4.9,2.5,4.5,1.7,Iris-virginica\\r\\n107,108,7.3,2.9,6.3,1.8,Iris-virginica\\r\\n108,109,6.7,2.5,5.8,1.8,Iris-virginica\\r\\n109,110,7.2,3.6,6.1,2.5,Iris-virginica\\r\\n110,111,6.5,3.2,5.1,2.0,Iris-virginica\\r\\n111,112,6.4,2.7,5.3,1.9,Iris-virginica\\r\\n112,113,6.8,3.0,5.5,2.1,Iris-virginica\\r\\n113,114,5.7,2.5,5.0,2.0,Iris-virginica\\r\\n114,115,5.8,2.8,5.1,2.4,Iris-virginica\\r\\n115,116,6.4,3.2,5.3,2.3,Iris-virginica\\r\\n116,117,6.5,3.0,5.5,1.8,Iris-virginica\\r\\n117,118,7.7,3.8,6.7,2.2,Iris-virginica\\r\\n118,119,7.7,2.6,6.9,2.3,Iris-virginica\\r\\n119,120,6.0,2.2,5.0,1.5,Iris-virginica\\r\\n120,121,6.9,3.2,5.7,2.3,Iris-virginica\\r\\n121,122,5.6,2.8,4.9,2.0,Iris-virginica\\r\\n122,123,7.7,2.8,6.7,2.0,Iris-virginica\\r\\n123,124,6.3,2.7,4.9,1.8,Iris-virginica\\r\\n124,125,6.7,3.3,5.7,2.1,Iris-virginica\\r\\n125,126,7.2,3.2,6.0,1.8,Iris-virginica\\r\\n126,127,6.2,2.8,4.8,1.8,Iris-virginica\\r\\n127,128,6.1,3.0,4.9,1.8,Iris-virginica\\r\\n128,129,6.4,2.8,5.6,2.1,Iris-virginica\\r\\n129,130,7.2,3.0,5.8,1.6,Iris-virginica\\r\\n130,131,7.4,2.8,6.1,1.9,Iris-virginica\\r\\n131,132,7.9,3.8,6.4,2.0,Iris-virginica\\r\\n132,133,6.4,2.8,5.6,2.2,Iris-virginica\\r\\n133,134,6.3,2.8,5.1,1.5,Iris-virginica\\r\\n134,135,6.1,2.6,5.6,1.4,Iris-virginica\\r\\n135,136,7.7,3.0,6.1,2.3,Iris-virginica\\r\\n136,137,6.3,3.4,5.6,2.4,Iris-virginica\\r\\n137,138,6.4,3.1,5.5,1.8,Iris-virginica\\r\\n138,139,6.0,3.0,4.8,1.8,Iris-virginica\\r\\n139,140,6.9,3.1,5.4,2.1,Iris-virginica\\r\\n140,141,6.7,3.1,5.6,2.4,Iris-virginica\\r\\n141,142,6.9,3.1,5.1,2.3,Iris-virginica\\r\\n142,143,5.8,2.7,5.1,1.9,Iris-virginica\\r\\n143,144,6.8,3.2,5.9,2.3,Iris-virginica\\r\\n144,145,6.7,3.3,5.7,2.5,Iris-virginica\\r\\n145,146,6.7,3.0,5.2,2.3,Iris-virginica\\r\\n146,147,6.3,2.5,5.0,1.9,Iris-virginica\\r\\n147,148,6.5,3.0,5.2,2.0,Iris-virginica\\r\\n148,149,6.2,3.4,5.4,2.3,Iris-virginica\\r\\n149,150,5.9,3.0,5.1,1.8,Iris-virginica\\r\\n'"
      ]
     },
     "execution_count": 101,
     "metadata": {},
     "output_type": "execute_result"
    }
   ],
   "source": [
    "df.to_csv()"
   ]
  },
  {
   "cell_type": "code",
   "execution_count": 99,
   "id": "b5a887f3",
   "metadata": {},
   "outputs": [
    {
     "data": {
      "text/html": [
       "<div>\n",
       "<style scoped>\n",
       "    .dataframe tbody tr th:only-of-type {\n",
       "        vertical-align: middle;\n",
       "    }\n",
       "\n",
       "    .dataframe tbody tr th {\n",
       "        vertical-align: top;\n",
       "    }\n",
       "\n",
       "    .dataframe thead th {\n",
       "        text-align: right;\n",
       "    }\n",
       "</style>\n",
       "<table border=\"1\" class=\"dataframe\">\n",
       "  <thead>\n",
       "    <tr style=\"text-align: right;\">\n",
       "      <th></th>\n",
       "      <th>Id</th>\n",
       "      <th>SepalLengthCm</th>\n",
       "      <th>SepalWidthCm</th>\n",
       "      <th>PetalLengthCm</th>\n",
       "      <th>PetalWidthCm</th>\n",
       "      <th>Species</th>\n",
       "    </tr>\n",
       "  </thead>\n",
       "  <tbody>\n",
       "    <tr>\n",
       "      <th>0</th>\n",
       "      <td>1</td>\n",
       "      <td>5.1</td>\n",
       "      <td>3.5</td>\n",
       "      <td>1.4</td>\n",
       "      <td>0.2</td>\n",
       "      <td>Iris-setosa</td>\n",
       "    </tr>\n",
       "    <tr>\n",
       "      <th>1</th>\n",
       "      <td>2</td>\n",
       "      <td>4.9</td>\n",
       "      <td>3.0</td>\n",
       "      <td>1.4</td>\n",
       "      <td>0.2</td>\n",
       "      <td>Iris-setosa</td>\n",
       "    </tr>\n",
       "    <tr>\n",
       "      <th>2</th>\n",
       "      <td>3</td>\n",
       "      <td>4.7</td>\n",
       "      <td>3.2</td>\n",
       "      <td>1.3</td>\n",
       "      <td>0.2</td>\n",
       "      <td>Iris-setosa</td>\n",
       "    </tr>\n",
       "    <tr>\n",
       "      <th>3</th>\n",
       "      <td>4</td>\n",
       "      <td>4.6</td>\n",
       "      <td>3.1</td>\n",
       "      <td>1.5</td>\n",
       "      <td>0.2</td>\n",
       "      <td>Iris-setosa</td>\n",
       "    </tr>\n",
       "    <tr>\n",
       "      <th>4</th>\n",
       "      <td>5</td>\n",
       "      <td>5.0</td>\n",
       "      <td>3.6</td>\n",
       "      <td>1.4</td>\n",
       "      <td>0.2</td>\n",
       "      <td>Iris-setosa</td>\n",
       "    </tr>\n",
       "    <tr>\n",
       "      <th>...</th>\n",
       "      <td>...</td>\n",
       "      <td>...</td>\n",
       "      <td>...</td>\n",
       "      <td>...</td>\n",
       "      <td>...</td>\n",
       "      <td>...</td>\n",
       "    </tr>\n",
       "    <tr>\n",
       "      <th>145</th>\n",
       "      <td>146</td>\n",
       "      <td>6.7</td>\n",
       "      <td>3.0</td>\n",
       "      <td>5.2</td>\n",
       "      <td>2.3</td>\n",
       "      <td>Iris-virginica</td>\n",
       "    </tr>\n",
       "    <tr>\n",
       "      <th>146</th>\n",
       "      <td>147</td>\n",
       "      <td>6.3</td>\n",
       "      <td>2.5</td>\n",
       "      <td>5.0</td>\n",
       "      <td>1.9</td>\n",
       "      <td>Iris-virginica</td>\n",
       "    </tr>\n",
       "    <tr>\n",
       "      <th>147</th>\n",
       "      <td>148</td>\n",
       "      <td>6.5</td>\n",
       "      <td>3.0</td>\n",
       "      <td>5.2</td>\n",
       "      <td>2.0</td>\n",
       "      <td>Iris-virginica</td>\n",
       "    </tr>\n",
       "    <tr>\n",
       "      <th>148</th>\n",
       "      <td>149</td>\n",
       "      <td>6.2</td>\n",
       "      <td>3.4</td>\n",
       "      <td>5.4</td>\n",
       "      <td>2.3</td>\n",
       "      <td>Iris-virginica</td>\n",
       "    </tr>\n",
       "    <tr>\n",
       "      <th>149</th>\n",
       "      <td>150</td>\n",
       "      <td>5.9</td>\n",
       "      <td>3.0</td>\n",
       "      <td>5.1</td>\n",
       "      <td>1.8</td>\n",
       "      <td>Iris-virginica</td>\n",
       "    </tr>\n",
       "  </tbody>\n",
       "</table>\n",
       "<p>150 rows × 6 columns</p>\n",
       "</div>"
      ],
      "text/plain": [
       "      Id  SepalLengthCm  SepalWidthCm  PetalLengthCm  PetalWidthCm  \\\n",
       "0      1            5.1           3.5            1.4           0.2   \n",
       "1      2            4.9           3.0            1.4           0.2   \n",
       "2      3            4.7           3.2            1.3           0.2   \n",
       "3      4            4.6           3.1            1.5           0.2   \n",
       "4      5            5.0           3.6            1.4           0.2   \n",
       "..   ...            ...           ...            ...           ...   \n",
       "145  146            6.7           3.0            5.2           2.3   \n",
       "146  147            6.3           2.5            5.0           1.9   \n",
       "147  148            6.5           3.0            5.2           2.0   \n",
       "148  149            6.2           3.4            5.4           2.3   \n",
       "149  150            5.9           3.0            5.1           1.8   \n",
       "\n",
       "            Species  \n",
       "0       Iris-setosa  \n",
       "1       Iris-setosa  \n",
       "2       Iris-setosa  \n",
       "3       Iris-setosa  \n",
       "4       Iris-setosa  \n",
       "..              ...  \n",
       "145  Iris-virginica  \n",
       "146  Iris-virginica  \n",
       "147  Iris-virginica  \n",
       "148  Iris-virginica  \n",
       "149  Iris-virginica  \n",
       "\n",
       "[150 rows x 6 columns]"
      ]
     },
     "execution_count": 99,
     "metadata": {},
     "output_type": "execute_result"
    }
   ],
   "source": [
    "df.fillna(method='ffill')"
   ]
  },
  {
   "cell_type": "code",
   "execution_count": 98,
   "id": "d8b2f8a7",
   "metadata": {},
   "outputs": [
    {
     "ename": "SyntaxError",
     "evalue": "invalid syntax (Temp/ipykernel_22488/1583014030.py, line 3)",
     "output_type": "error",
     "traceback": [
      "\u001b[1;36m  File \u001b[1;32m\"C:\\Users\\labz\\AppData\\Local\\Temp/ipykernel_22488/1583014030.py\"\u001b[1;36m, line \u001b[1;32m3\u001b[0m\n\u001b[1;33m    elif value is None and method is not None:\u001b[0m\n\u001b[1;37m    ^\u001b[0m\n\u001b[1;31mSyntaxError\u001b[0m\u001b[1;31m:\u001b[0m invalid syntax\n"
     ]
    }
   ],
   "source": []
  },
  {
   "cell_type": "code",
   "execution_count": null,
   "id": "35696812",
   "metadata": {},
   "outputs": [],
   "source": []
  },
  {
   "cell_type": "code",
   "execution_count": null,
   "id": "986941e3",
   "metadata": {},
   "outputs": [],
   "source": []
  }
 ],
 "metadata": {
  "kernelspec": {
   "display_name": "Python 3 (ipykernel)",
   "language": "python",
   "name": "python3"
  },
  "language_info": {
   "codemirror_mode": {
    "name": "ipython",
    "version": 3
   },
   "file_extension": ".py",
   "mimetype": "text/x-python",
   "name": "python",
   "nbconvert_exporter": "python",
   "pygments_lexer": "ipython3",
   "version": "3.9.7"
  }
 },
 "nbformat": 4,
 "nbformat_minor": 5
}
